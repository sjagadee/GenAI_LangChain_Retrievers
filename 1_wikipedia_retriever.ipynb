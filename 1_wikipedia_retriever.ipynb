{
 "cells": [
  {
   "cell_type": "code",
   "execution_count": 1,
   "id": "34815a98",
   "metadata": {},
   "outputs": [],
   "source": [
    "from langchain_community.retrievers import WikipediaRetriever"
   ]
  },
  {
   "cell_type": "code",
   "execution_count": 2,
   "id": "a4fc733d",
   "metadata": {},
   "outputs": [],
   "source": [
    "# initialize the retriever\n",
    "wiki_retriever = WikipediaRetriever(top_k_results=2, lang=\"en\")\n"
   ]
  },
  {
   "cell_type": "code",
   "execution_count": null,
   "id": "b6cb0788",
   "metadata": {},
   "outputs": [
    {
     "name": "stdout",
     "output_type": "stream",
     "text": [
      "Number of results: 2\n"
     ]
    }
   ],
   "source": [
    "# define the query\n",
    "query = \"The geopolitical history of India and Pakistan\"\n",
    "\n",
    "# retrieve the results\n",
    "docs = wiki_retriever.invoke(query)\n",
    "\n",
    "print(f\"Number of results: {len(docs)}\")"
   ]
  },
  {
   "cell_type": "code",
   "execution_count": 9,
   "id": "4c3c4292",
   "metadata": {},
   "outputs": [
    {
     "name": "stdout",
     "output_type": "stream",
     "text": [
      "\n",
      "--------- Result 1 ---------\n",
      "Content: The 2025 India–Pakistan conflict was a brief armed conflict between India and Pakistan that began on 7 May 2025, after India launched missile strikes on Pakistan, in a military campaign codenamed Operation Sindoor. India said that the operation was in response to the Pahalgam terrorist attack in Indian-administered Jammu and Kashmir on 22 April 2025 in which 26 civilians were killed. India accused Pakistan of supporting cross-border terrorism, which Pakistan denied.\n",
      "On 7 May, India launched Operation Sindoor with missile strikes on terrorism-related infrastructure facilities of Pakistan-based militant groups Jaish-e-Mohammed and Lashkar-e-Taiba in Pakistan and Pakistan-administered Azad Kashmir, and said that no Pakistani military or civilian facilities were targeted. According to Pakistan, the Indian strikes hit civilian areas, including mosques, and resulted in civilian casualties. Following these strikes, there were border skirmishes and drone strikes between the two countries. Pakistan's army retaliated on 7 May, by launching a blitz of mortar shells on Jammu, particularly Poonch, killing civilians, and damaging homes and religious sites. This conflict marked the first drone battle between the two nuclear-armed nations.\n",
      "In the early hours of 10 May, India accused Pakistan of launching missile attacks on Indian air bases including the Sirsa air base while Pakistan accused India of launching attacks on several Pakistan air bases, including Nur Khan air base, Rafiqi air base, and Murid air base. As conflict escalated on 10 May, Pakistan launched its Operation Bunyan-un-Marsoos, in which it said it had targeted several Indian military bases, including Udhampur air base, Pathankot air base and Adampur air base.\n",
      "After the four-day military conflict, both India and Pakistan announced that a ceasefire had been agreed after a hotline communication between their DGMOs (Directors General of Military Operations) on 10 May 2025. US Vice President JD Vance and Secretary of State Marco Rubio held extensive correspondence with both Indian and Pakistani officials during the negotiations. The ceasefire has been holding, with resumed commercial flights and normalcy reported from both countries.\n",
      "\n",
      "\n",
      "== Background ==\n",
      "\n",
      "The Kashmir conflict, ongoing since 1947, has fuelled multiple wars and skirmishes between India and Pakistan over the disputed region.\n",
      "On 22 April 2025, a terrorist attack by five armed terrorists near Pahalgam in Indian-administered Jammu and Kashmir killed 26 civilians, mostly Hindu tourists. The Resistance Front, a militant faction of the Pakistan-based, UN-designated terrorist group Lashkar-e-Taiba, operating in Indian-administered Kashmir, initially claimed responsibility for the attack, but later denied responsibility, saying that the earlier claim was the result of a coordinated hacking, and attributed the breach to Indian authorities. Pakistan alleged that the Pahalgam attack was a \"false flag operation\" orchestrated by India.\n",
      "India announced a series of retaliatory measures against Pakistan, including the suspension of the Indus Waters Treaty, prompting responsive measures and leading to a diplomatic crisis and border skirmishes. India and Pakistan also closed their airspaces for each other's airlines.\n",
      "According to AirForces Monthly, on 29 April, four Indian Air Force (IAF) Rafale aircraft departed from Ambala Air Force Station on a mission to bomb terrorist targets in the north but aborted and diverted to Srinagar Air Force Station due to an electronic warfare jamming claimed by PAF. As described by the magazine, following this failed attack, and before 6 May, the IAF redeployed up to 20 Rafale aircraft from Hasimara Air Force Station (home of No. 101 Squadron IAF in the Eastern Command) to Gwalior, Ambala, Srinagar, and Nal Air Force Station in Rajasthan. Several S-400 missile system surface-to-air missile batteries were also repositioned to Adampur, Bhuj, and Bikaner. During late April and early May, the IAF mobilised ...\n",
      "Metadata: {'title': '2025 India–Pakistan conflict', 'summary': \"The 2025 India–Pakistan conflict was a brief armed conflict between India and Pakistan that began on 7 May 2025, after India launched missile strikes on Pakistan, in a military campaign codenamed Operation Sindoor. India said that the operation was in response to the Pahalgam terrorist attack in Indian-administered Jammu and Kashmir on 22 April 2025 in which 26 civilians were killed. India accused Pakistan of supporting cross-border terrorism, which Pakistan denied.\\nOn 7 May, India launched Operation Sindoor with missile strikes on terrorism-related infrastructure facilities of Pakistan-based militant groups Jaish-e-Mohammed and Lashkar-e-Taiba in Pakistan and Pakistan-administered Azad Kashmir, and said that no Pakistani military or civilian facilities were targeted. According to Pakistan, the Indian strikes hit civilian areas, including mosques, and resulted in civilian casualties. Following these strikes, there were border skirmishes and drone strikes between the two countries. Pakistan's army retaliated on 7 May, by launching a blitz of mortar shells on Jammu, particularly Poonch, killing civilians, and damaging homes and religious sites. This conflict marked the first drone battle between the two nuclear-armed nations.\\nIn the early hours of 10 May, India accused Pakistan of launching missile attacks on Indian air bases including the Sirsa air base while Pakistan accused India of launching attacks on several Pakistan air bases, including Nur Khan air base, Rafiqi air base, and Murid air base. As conflict escalated on 10 May, Pakistan launched its Operation Bunyan-un-Marsoos, in which it said it had targeted several Indian military bases, including Udhampur air base, Pathankot air base and Adampur air base.\\nAfter the four-day military conflict, both India and Pakistan announced that a ceasefire had been agreed after a hotline communication between their DGMOs (Directors General of Military Operations) on 10 May 2025. US Vice President JD Vance and Secretary of State Marco Rubio held extensive correspondence with both Indian and Pakistani officials during the negotiations. The ceasefire has been holding, with resumed commercial flights and normalcy reported from both countries.\", 'source': 'https://en.wikipedia.org/wiki/2025_India%E2%80%93Pakistan_conflict'}\n",
      "\n",
      "--------- Result 2 ---------\n",
      "Content: The Indo-Pakistani war of 1971, also known as the third Indo-Pakistani war, was a military confrontation between India and Pakistan that occurred during the Bangladesh Liberation War in East Pakistan from 3 December 1971 until the Pakistani capitulation in Dhaka on 16 December 1971.  The war began with Pakistan's Operation Chengiz Khan, consisting of preemptive aerial strikes on eight Indian air stations. The strikes led to India declaring war on Pakistan, marking their entry into the war for East Pakistan's independence, on the side of Bengali nationalist forces. India's entry expanded the existing conflict with Indian and Pakistani forces engaging on both the eastern and western fronts. \n",
      "Thirteen days after the war started, India achieved a clear upper hand, and the Eastern Command of the Pakistan military signed the instrument of surrender on 16 December 1971 in Dhaka, marking the formation of East Pakistan as the new nation of Bangladesh. Approximately 93,000 Pakistani servicemen were taken prisoner by the Indian Army, which included 79,676 to 81,000 uniformed personnel of the Pakistan Armed Forces, including some Bengali soldiers who had remained loyal to Pakistan. The remaining 10,324 to 12,500 prisoners were civilians, either family members of the military personnel or collaborators (Razakars).\n",
      "It is estimated that members of the Pakistani military and supporting pro-Pakistani Islamist militias killed between 300,000 and 3,000,000 civilians in Bangladesh. As a result of the conflict, a further eight to ten million people fled the country to seek refuge in India.\n",
      "During the war, members of the Pakistani military and supporting pro-Pakistani Islamist militias called the Razakars raped between 200,000 and 400,000 Bangladeshi women and girls in a systematic campaign of genocidal rape.\n",
      "\n",
      "\n",
      "== Background ==\n",
      "\n",
      "The Indo-Pakistani conflict was sparked by the Bangladesh Liberation War, which was a result of the violation of the rights of East Pakistan by the Pakistan Army. The political tensions in East Pakistan had its origin in the creation of Pakistan as a result of the partition of India by the United Kingdom in 1947; the popular language movement in 1950; mass riots in East Bengal in 1964; and the mass protests in 1969. These led to the resignation of President Ayub Khan, who invited army chief General Yahya Khan to take over the central government. The geographical distance between the eastern and western wings of Pakistan was vast; East Pakistan lay over 1,600 kilometres (1,000 mi) away, which greatly hampered any attempt to integrate the Bengali and the Pakistani cultures.\n",
      "To overcome the Bengali domination and prevent formation of the central government in Islamabad, the controversial One Unit programme established the two wings of East and West Pakistan. West Pakistanis' opposition to these efforts made it difficult to effectively govern both wings. In 1969, President Yahya Khan announced the first general elections and disestablished the status of West Pakistan as a single province in 1970, in order to restore it to its original heterogeneous status comprising four provinces, as defined at the time of establishment of Pakistan in 1947. In addition, there were religious and racial tensions between Bengalis and the multi-ethnic West Pakistanis, as Bengalis looked different from the dominant West Pakistanis.\n",
      "The East Pakistan's Awami League leader Sheikh Mujibur Rahman stressed his political position by presenting his Six Points and endorsing the Bengalis' right to govern. The 1970 Pakistani general election, resulted in Awami League gaining 167 out of 169 seats for the East Pakistan Legislative Assembly, and a near-absolute majority in the 313-seat National Assembly, while the vote in West Pakistan was mostly won by the socialist Pakistan Peoples Party. The League's election success caused many West Pakistanis to fear that it would allow the Bengalis to draft the constitution based on the six-points and liberalism.\n",
      "To resol...\n",
      "Metadata: {'title': 'Indo-Pakistani war of 1971', 'summary': \"The Indo-Pakistani war of 1971, also known as the third Indo-Pakistani war, was a military confrontation between India and Pakistan that occurred during the Bangladesh Liberation War in East Pakistan from 3 December 1971 until the Pakistani capitulation in Dhaka on 16 December 1971.  The war began with Pakistan's Operation Chengiz Khan, consisting of preemptive aerial strikes on eight Indian air stations. The strikes led to India declaring war on Pakistan, marking their entry into the war for East Pakistan's independence, on the side of Bengali nationalist forces. India's entry expanded the existing conflict with Indian and Pakistani forces engaging on both the eastern and western fronts. \\nThirteen days after the war started, India achieved a clear upper hand, and the Eastern Command of the Pakistan military signed the instrument of surrender on 16 December 1971 in Dhaka, marking the formation of East Pakistan as the new nation of Bangladesh. Approximately 93,000 Pakistani servicemen were taken prisoner by the Indian Army, which included 79,676 to 81,000 uniformed personnel of the Pakistan Armed Forces, including some Bengali soldiers who had remained loyal to Pakistan. The remaining 10,324 to 12,500 prisoners were civilians, either family members of the military personnel or collaborators (Razakars).\\nIt is estimated that members of the Pakistani military and supporting pro-Pakistani Islamist militias killed between 300,000 and 3,000,000 civilians in Bangladesh. As a result of the conflict, a further eight to ten million people fled the country to seek refuge in India.\\nDuring the war, members of the Pakistani military and supporting pro-Pakistani Islamist militias called the Razakars raped between 200,000 and 400,000 Bangladeshi women and girls in a systematic campaign of genocidal rape.\", 'source': 'https://en.wikipedia.org/wiki/Indo-Pakistani_war_of_1971'}\n"
     ]
    }
   ],
   "source": [
    "# print the results\n",
    "for i, doc in enumerate(docs):\n",
    "    print(f\"\\n--------- Result {i+1} ---------\")\n",
    "    print(f\"Content: {doc.page_content}...\") # truncate the content\n",
    "    print(f\"Metadata: {doc.metadata}\")"
   ]
  },
  {
   "cell_type": "code",
   "execution_count": null,
   "id": "ced1c258",
   "metadata": {},
   "outputs": [],
   "source": []
  }
 ],
 "metadata": {
  "kernelspec": {
   "display_name": "for_genai",
   "language": "python",
   "name": "python3"
  },
  "language_info": {
   "codemirror_mode": {
    "name": "ipython",
    "version": 3
   },
   "file_extension": ".py",
   "mimetype": "text/x-python",
   "name": "python",
   "nbconvert_exporter": "python",
   "pygments_lexer": "ipython3",
   "version": "3.12.12"
  }
 },
 "nbformat": 4,
 "nbformat_minor": 5
}
